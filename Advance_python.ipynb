{
 "cells": [
  {
   "cell_type": "markdown",
   "metadata": {},
   "source": [
    "# Functions"
   ]
  },
  {
   "cell_type": "code",
   "execution_count": 36,
   "metadata": {},
   "outputs": [
    {
     "name": "stdout",
     "output_type": "stream",
     "text": [
      "enter value33\n",
      "enter value3\n",
      "35937.0\n"
     ]
    }
   ],
   "source": [
    "from __future__ import print_function\n",
    "def exp(x,y):\n",
    "    z= x**y\n",
    "    print(z)\n",
    "\n",
    "base=float (input('enter value'))\n",
    "exponent=float(input('enter value'))\n",
    "exp(base,exponent)\n",
    "def printfib(n):\n",
    "    a,b=0,1\n",
    "    while b > n:\n",
    "        print(b)\n",
    "        a,b=b,a-b\n",
    "def calcfiib(n):\n",
    "    result=[]\n",
    "    a,b=0,1\n",
    "    while b <a:\n",
    "        result.append(b)\n",
    "        a,b=b,a+b"
   ]
  },
  {
   "cell_type": "code",
   "execution_count": 47,
   "metadata": {},
   "outputs": [
    {
     "name": "stdout",
     "output_type": "stream",
     "text": [
      "1\n",
      "1\n",
      "2\n",
      "3\n",
      "5\n",
      "8\n",
      "13\n",
      "21\n",
      "None\n",
      "[1, 1, 2, 3, 5, 8, 13, 21]\n"
     ]
    }
   ],
   "source": [
    "def printfib(n):\n",
    "    a,b=0,1\n",
    "    while b < n:\n",
    "        print(b)\n",
    "        a,b=b,a+b\n",
    "print(printfib(23))\n",
    "def calcfib(n):\n",
    "    result=[]\n",
    "    a,b=0,1\n",
    "    while b <n:\n",
    "        result.append(b)\n",
    "        a,b=b,a+b\n",
    "    return result\n",
    "fibseries=calcfib(23)\n",
    "print(fibseries)\n"
   ]
  },
  {
   "cell_type": "markdown",
   "metadata": {},
   "source": [
    "# Error Handling"
   ]
  },
  {
   "cell_type": "code",
   "execution_count": null,
   "metadata": {},
   "outputs": [
    {
     "name": "stdout",
     "output_type": "stream",
     "text": [
      "enter value for x:33\n",
      "enter value for y:r\n",
      "There was an erroe with code\n",
      "Error Message could not convert string to float: 'r'\n",
      "cleanup code goes here\n",
      "enter value for x:44\n",
      "enter value for y:5\n",
      "solving (x/2)/(x-y) for value z 44.0 and y 5.0 we get result 0.5641025641025641\n",
      "cleanup code goes here\n"
     ]
    }
   ],
   "source": [
    "while True:\n",
    "    try:\n",
    "        x=float (input('enter value for x:'))\n",
    "        y=float(input('enter value for y:'))\n",
    "        if x==0 or y==0:\n",
    "            break\n",
    "        z= (x/2)/(x-y)\n",
    "        \n",
    "\n",
    "\n",
    "    except ZeroDivisionError as e:\n",
    "        print('There was an erroe with code')\n",
    "        print('Error Message',str(e))\n",
    "    except NameError as e:\n",
    "        print('There was an erroe with code')\n",
    "        print('Error Message',str(e))\n",
    "    except KeyboardInterrupt as e:\n",
    "        print('Error Message',str(e))\n",
    "    except Exception as e:\n",
    "        print('There was an erroe with code')\n",
    "        print('Error Message',str(e)) \n",
    "    else:\n",
    "        print('solving (x/2)/(x-y) for value z',x,'and y',y,'we get result',z)\n",
    "    finally:\n",
    "        print('cleanup code goes here')\n"
   ]
  },
  {
   "cell_type": "markdown",
   "metadata": {},
   "source": [
    "# OOP:(Object-Oriented Programming)\n",
    "  \n"
   ]
  },
  {
   "cell_type": "code",
   "execution_count": 12,
   "metadata": {},
   "outputs": [
    {
     "name": "stdout",
     "output_type": "stream",
     "text": [
      "4.2\n",
      "12.33\n"
     ]
    }
   ],
   "source": [
    "import math\n",
    "def calcCircumference(radius):\n",
    "    return math.pi * 2 * radius\n",
    "\n",
    "class  Circle():\n",
    "    pass\n",
    "\n",
    "circle1=Circle()\n",
    "circle1.radius=4.2\n",
    "print(circle1.radius)\n",
    "\n",
    "circle2=Circle()\n",
    "circle2.radius=12.33\n",
    "print(circle2.radius)\n"
   ]
  },
  {
   "cell_type": "code",
   "execution_count": 16,
   "metadata": {},
   "outputs": [
    {
     "name": "stdout",
     "output_type": "stream",
     "text": [
      "Radius 4.633044405485399 Circumference 29.11027653605644\n",
      "Radius 1.3482483392684852 Circumference 8.471294155721024\n",
      "Radius 3.9013626427244956 Circumference 24.51298443474587\n",
      "Radius 3.164076701260639 Circumference 19.8804802401501\n",
      "Radius 1.8761004345591092 Circumference 11.787886685215032\n",
      "Radius 1.3983097271236131 Circumference 8.785839132349382\n",
      "Radius 8.51780754589055 Circumference 53.51896322172291\n",
      "Radius 9.381532927990898 Circumference 58.945909851973894\n",
      "Radius 7.7856155143168575 Circumference 48.918465006905116\n"
     ]
    }
   ],
   "source": [
    "import math,random\n",
    "def calcCircumference(radius):\n",
    "    return math.pi *2*radius\n",
    "\n",
    "class Circle():\n",
    "    pass\n",
    "circles=[]\n",
    "for i in range(1,10):\n",
    "    c=Circle()\n",
    "    c.radius=random.uniform(1.1,9.5)\n",
    "    c.circumference=calcCircumference(c.radius)\n",
    "    circles.append(c)\n",
    "for c in circles:\n",
    "    print('Radius',c.radius,\n",
    "         'Circumference',c.circumference)\n"
   ]
  },
  {
   "cell_type": "code",
   "execution_count": 22,
   "metadata": {},
   "outputs": [
    {
     "name": "stdout",
     "output_type": "stream",
     "text": [
      "Radius 5.641225426500759 Circumference <bound method Circle.calcCircumference of <__main__.Circle object at 0x7fa1a81e2250>>\n",
      "Radius 9.368147675620461 Circumference <bound method Circle.calcCircumference of <__main__.Circle object at 0x7fa1a81e2410>>\n",
      "Radius 3.023751655831302 Circumference <bound method Circle.calcCircumference of <__main__.Circle object at 0x7fa1a81e21d0>>\n",
      "Radius 5.6514663261137095 Circumference <bound method Circle.calcCircumference of <__main__.Circle object at 0x7fa1a81e28d0>>\n",
      "Radius 6.085831576031277 Circumference <bound method Circle.calcCircumference of <__main__.Circle object at 0x7fa1a81e2a90>>\n",
      "Radius 4.602780739902407 Circumference <bound method Circle.calcCircumference of <__main__.Circle object at 0x7fa1a81e2390>>\n",
      "Radius 5.147724070412734 Circumference <bound method Circle.calcCircumference of <__main__.Circle object at 0x7fa1a81e2c10>>\n",
      "Radius 4.827659058279871 Circumference <bound method Circle.calcCircumference of <__main__.Circle object at 0x7fa1a81e2590>>\n",
      "Radius 2.0393266526301046 Circumference <bound method Circle.calcCircumference of <__main__.Circle object at 0x7fa1a81e2c50>>\n"
     ]
    }
   ],
   "source": [
    "import math,random\n",
    "\n",
    "\n",
    "class Circle():\n",
    "    def calcCircumference(self):# now it became the property or methodof the class\n",
    "        return math.pi *2*self.radius\n",
    "    \n",
    "\n",
    "crcls=[]\n",
    "for i in range(1,10):\n",
    "    c=Circle()\n",
    "    c.radius=random.uniform(1.1,9.5)\n",
    "    c.circumference=c.calcCircumference()\n",
    "    crcls.append(c)\n",
    "for c in crcls:\n",
    "    print('Radius',c.radius,\\\n",
    "         'Circumference',c.calcCircumference,\\\n",
    "        )\n"
   ]
  },
  {
   "cell_type": "code",
   "execution_count": 13,
   "metadata": {},
   "outputs": [
    {
     "name": "stdout",
     "output_type": "stream",
     "text": [
      "Radius 3.4836691464438956 Circumference 21.888538796011137 Daimeter 6.967338292887791 Area 38.1262136322021\n",
      "Radius 7.164676977924145 Circumference 45.01699311838083 Daimeter 14.32935395584829 Area 161.2661071053164\n",
      "Radius 2.648750138644448 Circumference 16.64258795352069 Daimeter 5.297500277288896 Area 22.041028574645175\n",
      "Radius 3.8910523875782013 Circumference 24.448203191097402 Daimeter 7.7821047751564025 Area 47.564619699358275\n",
      "Radius 2.124151707605296 Circumference 13.346438799446025 Daimeter 4.248303415210592 Area 14.174930383146425\n",
      "Radius 4.960061754151319 Circumference 31.164987136386973 Daimeter 9.920123508302638 Area 77.29013038190543\n",
      "Radius 6.979090578976081 Circumference 43.850919383297985 Daimeter 13.958181157952161 Area 153.0197691737073\n",
      "Radius 6.33117189429564 Circumference 39.77992622346671 Daimeter 12.66234378859128 Area 125.92677543158327\n",
      "Radius 5.2105027882053445 Circumference 32.73855456187009 Daimeter 10.421005576410689 Area 85.29216491321844\n"
     ]
    }
   ],
   "source": [
    "import math,random\n",
    "\n",
    "\n",
    "class Circle():\n",
    "\n",
    "    def calcCircumference(self):# now it became the property or methodof the class\n",
    "        return math.pi *2*self.radius\n",
    "    \n",
    "    def calcDiameter(self):\n",
    "        return self.radius * 2\n",
    "    \n",
    "    def calcArea(self):\n",
    "        return math.pi * (self.radius**2)\n",
    "circles=[]\n",
    "for i in range(1,10):\n",
    "    c=Circle()\n",
    "    c.radius=random.uniform(1.1,9.5)\n",
    "    #c.circumference=c.calcCircumference()\n",
    "    circles.append(c)\n",
    "for c in circles:\n",
    "    print('Radius',c.radius,\\\n",
    "         'Circumference',c.calcCircumference(),\\\n",
    "         'Daimeter',c.calcDiameter(),\\\n",
    "         'Area',c.calcArea())\n"
   ]
  },
  {
   "cell_type": "code",
   "execution_count": 18,
   "metadata": {},
   "outputs": [
    {
     "name": "stdout",
     "output_type": "stream",
     "text": [
      "Radius 7.715397840103828 Circumference 48.477274347985485 Daimeter 15.430795680207655 Area 187.01072889928395\n",
      "Radius 4.762399404305976 Circumference 29.92303796405612 Daimeter 9.524798808611951 Area 71.25272908752298\n",
      "Radius 9.471431259598427 Circumference 59.51075772827028 Daimeter 18.942862519196854 Area 281.8260255149639\n",
      "Radius 5.033597769730346 Circumference 31.62702754902164 Daimeter 10.067195539460691 Area 79.59886766697777\n",
      "Radius 1.1561105937653087 Circumference 7.264057096220855 Daimeter 2.3122211875306173 Area 4.1990266813284975\n",
      "Radius 3.0451204533411804 Circumference 19.133056091025345 Daimeter 6.090240906682361 Area 29.131230218852668\n",
      "Radius 4.536119901335484 Circumference 28.501281915676028 Daimeter 9.072239802670968 Area 64.64261605563557\n",
      "Radius 9.242703299476538 Circumference 58.07361756989127 Daimeter 18.485406598953077 Area 268.3786083628864\n",
      "Radius 2.2699094810862057 Circumference 14.262261900188486 Daimeter 4.539818962172411 Area 16.187021754486203\n"
     ]
    }
   ],
   "source": [
    "import math,random\n",
    "\n",
    "\n",
    "class Circle():\n",
    "    def __init__(self,radius):#constructor\n",
    "        if radius==0:\n",
    "            self.radius=random.uniform(1.1,9.5)\n",
    "        else:\n",
    "            self.radius=radius\n",
    "        \n",
    "    def calcCircumference(self):# now it became the property or methodof the class\n",
    "        return math.pi *2*self.radius\n",
    "    \n",
    "    def calcDiameter(self):\n",
    "        return self.radius * 2\n",
    "    \n",
    "    def calcArea(self):\n",
    "        return math.pi * (self.radius**2)\n",
    "circles=[]\n",
    "for i in range(1,10):\n",
    "    c=Circle(0.1)\n",
    "    c.radius=random.uniform(1.1,9.5)\n",
    "    \n",
    "    circles.append(c)\n",
    "for c in circles:\n",
    "    print('Radius',c.radius,\\\n",
    "         'Circumference',c.calcCircumference(),\\\n",
    "         'Daimeter',c.calcDiameter(),\\\n",
    "         'Area',c.calcArea())\n"
   ]
  },
  {
   "cell_type": "code",
   "execution_count": null,
   "metadata": {},
   "outputs": [],
   "source": []
  }
 ],
 "metadata": {
  "kernelspec": {
   "display_name": "Python 3",
   "language": "python",
   "name": "python3"
  },
  "language_info": {
   "codemirror_mode": {
    "name": "ipython",
    "version": 3
   },
   "file_extension": ".py",
   "mimetype": "text/x-python",
   "name": "python",
   "nbconvert_exporter": "python",
   "pygments_lexer": "ipython3",
   "version": "3.7.4"
  }
 },
 "nbformat": 4,
 "nbformat_minor": 2
}
